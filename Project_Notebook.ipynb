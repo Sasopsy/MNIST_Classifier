{
 "cells": [
  {
   "cell_type": "markdown",
   "metadata": {},
   "source": [
    "# MNIST Classifier Project - Sasmit Datta"
   ]
  },
  {
   "cell_type": "markdown",
   "metadata": {},
   "source": [
    "### Importing Packages"
   ]
  },
  {
   "cell_type": "code",
   "execution_count": 1,
   "metadata": {},
   "outputs": [],
   "source": [
    "#Importing the necessary libraries to do this project\n",
    "import numpy as np\n",
    "import matplotlib.pyplot as plt\n",
    "import pandas as pd"
   ]
  },
  {
   "cell_type": "markdown",
   "metadata": {},
   "source": [
    "### Data Transformation"
   ]
  },
  {
   "cell_type": "code",
   "execution_count": 3,
   "metadata": {},
   "outputs": [],
   "source": [
    "#Importing data in the form of pandas dataframe\n",
    "df_training_set=pd.read_csv('digit-recognizer/train.csv')\n",
    "df_testing_set=pd.read_csv('digit-recognizer/test.csv')"
   ]
  },
  {
   "cell_type": "code",
   "execution_count": 4,
   "metadata": {},
   "outputs": [
    {
     "data": {
      "text/html": [
       "<div>\n",
       "<style scoped>\n",
       "    .dataframe tbody tr th:only-of-type {\n",
       "        vertical-align: middle;\n",
       "    }\n",
       "\n",
       "    .dataframe tbody tr th {\n",
       "        vertical-align: top;\n",
       "    }\n",
       "\n",
       "    .dataframe thead th {\n",
       "        text-align: right;\n",
       "    }\n",
       "</style>\n",
       "<table border=\"1\" class=\"dataframe\">\n",
       "  <thead>\n",
       "    <tr style=\"text-align: right;\">\n",
       "      <th></th>\n",
       "      <th>label</th>\n",
       "      <th>pixel0</th>\n",
       "      <th>pixel1</th>\n",
       "      <th>pixel2</th>\n",
       "      <th>pixel3</th>\n",
       "      <th>pixel4</th>\n",
       "      <th>pixel5</th>\n",
       "      <th>pixel6</th>\n",
       "      <th>pixel7</th>\n",
       "      <th>pixel8</th>\n",
       "      <th>...</th>\n",
       "      <th>pixel774</th>\n",
       "      <th>pixel775</th>\n",
       "      <th>pixel776</th>\n",
       "      <th>pixel777</th>\n",
       "      <th>pixel778</th>\n",
       "      <th>pixel779</th>\n",
       "      <th>pixel780</th>\n",
       "      <th>pixel781</th>\n",
       "      <th>pixel782</th>\n",
       "      <th>pixel783</th>\n",
       "    </tr>\n",
       "  </thead>\n",
       "  <tbody>\n",
       "    <tr>\n",
       "      <th>0</th>\n",
       "      <td>1</td>\n",
       "      <td>0</td>\n",
       "      <td>0</td>\n",
       "      <td>0</td>\n",
       "      <td>0</td>\n",
       "      <td>0</td>\n",
       "      <td>0</td>\n",
       "      <td>0</td>\n",
       "      <td>0</td>\n",
       "      <td>0</td>\n",
       "      <td>...</td>\n",
       "      <td>0</td>\n",
       "      <td>0</td>\n",
       "      <td>0</td>\n",
       "      <td>0</td>\n",
       "      <td>0</td>\n",
       "      <td>0</td>\n",
       "      <td>0</td>\n",
       "      <td>0</td>\n",
       "      <td>0</td>\n",
       "      <td>0</td>\n",
       "    </tr>\n",
       "    <tr>\n",
       "      <th>1</th>\n",
       "      <td>0</td>\n",
       "      <td>0</td>\n",
       "      <td>0</td>\n",
       "      <td>0</td>\n",
       "      <td>0</td>\n",
       "      <td>0</td>\n",
       "      <td>0</td>\n",
       "      <td>0</td>\n",
       "      <td>0</td>\n",
       "      <td>0</td>\n",
       "      <td>...</td>\n",
       "      <td>0</td>\n",
       "      <td>0</td>\n",
       "      <td>0</td>\n",
       "      <td>0</td>\n",
       "      <td>0</td>\n",
       "      <td>0</td>\n",
       "      <td>0</td>\n",
       "      <td>0</td>\n",
       "      <td>0</td>\n",
       "      <td>0</td>\n",
       "    </tr>\n",
       "    <tr>\n",
       "      <th>2</th>\n",
       "      <td>1</td>\n",
       "      <td>0</td>\n",
       "      <td>0</td>\n",
       "      <td>0</td>\n",
       "      <td>0</td>\n",
       "      <td>0</td>\n",
       "      <td>0</td>\n",
       "      <td>0</td>\n",
       "      <td>0</td>\n",
       "      <td>0</td>\n",
       "      <td>...</td>\n",
       "      <td>0</td>\n",
       "      <td>0</td>\n",
       "      <td>0</td>\n",
       "      <td>0</td>\n",
       "      <td>0</td>\n",
       "      <td>0</td>\n",
       "      <td>0</td>\n",
       "      <td>0</td>\n",
       "      <td>0</td>\n",
       "      <td>0</td>\n",
       "    </tr>\n",
       "    <tr>\n",
       "      <th>3</th>\n",
       "      <td>4</td>\n",
       "      <td>0</td>\n",
       "      <td>0</td>\n",
       "      <td>0</td>\n",
       "      <td>0</td>\n",
       "      <td>0</td>\n",
       "      <td>0</td>\n",
       "      <td>0</td>\n",
       "      <td>0</td>\n",
       "      <td>0</td>\n",
       "      <td>...</td>\n",
       "      <td>0</td>\n",
       "      <td>0</td>\n",
       "      <td>0</td>\n",
       "      <td>0</td>\n",
       "      <td>0</td>\n",
       "      <td>0</td>\n",
       "      <td>0</td>\n",
       "      <td>0</td>\n",
       "      <td>0</td>\n",
       "      <td>0</td>\n",
       "    </tr>\n",
       "    <tr>\n",
       "      <th>4</th>\n",
       "      <td>0</td>\n",
       "      <td>0</td>\n",
       "      <td>0</td>\n",
       "      <td>0</td>\n",
       "      <td>0</td>\n",
       "      <td>0</td>\n",
       "      <td>0</td>\n",
       "      <td>0</td>\n",
       "      <td>0</td>\n",
       "      <td>0</td>\n",
       "      <td>...</td>\n",
       "      <td>0</td>\n",
       "      <td>0</td>\n",
       "      <td>0</td>\n",
       "      <td>0</td>\n",
       "      <td>0</td>\n",
       "      <td>0</td>\n",
       "      <td>0</td>\n",
       "      <td>0</td>\n",
       "      <td>0</td>\n",
       "      <td>0</td>\n",
       "    </tr>\n",
       "  </tbody>\n",
       "</table>\n",
       "<p>5 rows × 785 columns</p>\n",
       "</div>"
      ],
      "text/plain": [
       "   label  pixel0  pixel1  pixel2  pixel3  pixel4  pixel5  pixel6  pixel7  \\\n",
       "0      1       0       0       0       0       0       0       0       0   \n",
       "1      0       0       0       0       0       0       0       0       0   \n",
       "2      1       0       0       0       0       0       0       0       0   \n",
       "3      4       0       0       0       0       0       0       0       0   \n",
       "4      0       0       0       0       0       0       0       0       0   \n",
       "\n",
       "   pixel8  ...  pixel774  pixel775  pixel776  pixel777  pixel778  pixel779  \\\n",
       "0       0  ...         0         0         0         0         0         0   \n",
       "1       0  ...         0         0         0         0         0         0   \n",
       "2       0  ...         0         0         0         0         0         0   \n",
       "3       0  ...         0         0         0         0         0         0   \n",
       "4       0  ...         0         0         0         0         0         0   \n",
       "\n",
       "   pixel780  pixel781  pixel782  pixel783  \n",
       "0         0         0         0         0  \n",
       "1         0         0         0         0  \n",
       "2         0         0         0         0  \n",
       "3         0         0         0         0  \n",
       "4         0         0         0         0  \n",
       "\n",
       "[5 rows x 785 columns]"
      ]
     },
     "execution_count": 4,
     "metadata": {},
     "output_type": "execute_result"
    }
   ],
   "source": [
    "df_training_set.head()"
   ]
  },
  {
   "cell_type": "code",
   "execution_count": 5,
   "metadata": {},
   "outputs": [
    {
     "data": {
      "text/html": [
       "<div>\n",
       "<style scoped>\n",
       "    .dataframe tbody tr th:only-of-type {\n",
       "        vertical-align: middle;\n",
       "    }\n",
       "\n",
       "    .dataframe tbody tr th {\n",
       "        vertical-align: top;\n",
       "    }\n",
       "\n",
       "    .dataframe thead th {\n",
       "        text-align: right;\n",
       "    }\n",
       "</style>\n",
       "<table border=\"1\" class=\"dataframe\">\n",
       "  <thead>\n",
       "    <tr style=\"text-align: right;\">\n",
       "      <th></th>\n",
       "      <th>pixel0</th>\n",
       "      <th>pixel1</th>\n",
       "      <th>pixel2</th>\n",
       "      <th>pixel3</th>\n",
       "      <th>pixel4</th>\n",
       "      <th>pixel5</th>\n",
       "      <th>pixel6</th>\n",
       "      <th>pixel7</th>\n",
       "      <th>pixel8</th>\n",
       "      <th>pixel9</th>\n",
       "      <th>...</th>\n",
       "      <th>pixel774</th>\n",
       "      <th>pixel775</th>\n",
       "      <th>pixel776</th>\n",
       "      <th>pixel777</th>\n",
       "      <th>pixel778</th>\n",
       "      <th>pixel779</th>\n",
       "      <th>pixel780</th>\n",
       "      <th>pixel781</th>\n",
       "      <th>pixel782</th>\n",
       "      <th>pixel783</th>\n",
       "    </tr>\n",
       "  </thead>\n",
       "  <tbody>\n",
       "    <tr>\n",
       "      <th>0</th>\n",
       "      <td>0</td>\n",
       "      <td>0</td>\n",
       "      <td>0</td>\n",
       "      <td>0</td>\n",
       "      <td>0</td>\n",
       "      <td>0</td>\n",
       "      <td>0</td>\n",
       "      <td>0</td>\n",
       "      <td>0</td>\n",
       "      <td>0</td>\n",
       "      <td>...</td>\n",
       "      <td>0</td>\n",
       "      <td>0</td>\n",
       "      <td>0</td>\n",
       "      <td>0</td>\n",
       "      <td>0</td>\n",
       "      <td>0</td>\n",
       "      <td>0</td>\n",
       "      <td>0</td>\n",
       "      <td>0</td>\n",
       "      <td>0</td>\n",
       "    </tr>\n",
       "    <tr>\n",
       "      <th>1</th>\n",
       "      <td>0</td>\n",
       "      <td>0</td>\n",
       "      <td>0</td>\n",
       "      <td>0</td>\n",
       "      <td>0</td>\n",
       "      <td>0</td>\n",
       "      <td>0</td>\n",
       "      <td>0</td>\n",
       "      <td>0</td>\n",
       "      <td>0</td>\n",
       "      <td>...</td>\n",
       "      <td>0</td>\n",
       "      <td>0</td>\n",
       "      <td>0</td>\n",
       "      <td>0</td>\n",
       "      <td>0</td>\n",
       "      <td>0</td>\n",
       "      <td>0</td>\n",
       "      <td>0</td>\n",
       "      <td>0</td>\n",
       "      <td>0</td>\n",
       "    </tr>\n",
       "    <tr>\n",
       "      <th>2</th>\n",
       "      <td>0</td>\n",
       "      <td>0</td>\n",
       "      <td>0</td>\n",
       "      <td>0</td>\n",
       "      <td>0</td>\n",
       "      <td>0</td>\n",
       "      <td>0</td>\n",
       "      <td>0</td>\n",
       "      <td>0</td>\n",
       "      <td>0</td>\n",
       "      <td>...</td>\n",
       "      <td>0</td>\n",
       "      <td>0</td>\n",
       "      <td>0</td>\n",
       "      <td>0</td>\n",
       "      <td>0</td>\n",
       "      <td>0</td>\n",
       "      <td>0</td>\n",
       "      <td>0</td>\n",
       "      <td>0</td>\n",
       "      <td>0</td>\n",
       "    </tr>\n",
       "    <tr>\n",
       "      <th>3</th>\n",
       "      <td>0</td>\n",
       "      <td>0</td>\n",
       "      <td>0</td>\n",
       "      <td>0</td>\n",
       "      <td>0</td>\n",
       "      <td>0</td>\n",
       "      <td>0</td>\n",
       "      <td>0</td>\n",
       "      <td>0</td>\n",
       "      <td>0</td>\n",
       "      <td>...</td>\n",
       "      <td>0</td>\n",
       "      <td>0</td>\n",
       "      <td>0</td>\n",
       "      <td>0</td>\n",
       "      <td>0</td>\n",
       "      <td>0</td>\n",
       "      <td>0</td>\n",
       "      <td>0</td>\n",
       "      <td>0</td>\n",
       "      <td>0</td>\n",
       "    </tr>\n",
       "    <tr>\n",
       "      <th>4</th>\n",
       "      <td>0</td>\n",
       "      <td>0</td>\n",
       "      <td>0</td>\n",
       "      <td>0</td>\n",
       "      <td>0</td>\n",
       "      <td>0</td>\n",
       "      <td>0</td>\n",
       "      <td>0</td>\n",
       "      <td>0</td>\n",
       "      <td>0</td>\n",
       "      <td>...</td>\n",
       "      <td>0</td>\n",
       "      <td>0</td>\n",
       "      <td>0</td>\n",
       "      <td>0</td>\n",
       "      <td>0</td>\n",
       "      <td>0</td>\n",
       "      <td>0</td>\n",
       "      <td>0</td>\n",
       "      <td>0</td>\n",
       "      <td>0</td>\n",
       "    </tr>\n",
       "  </tbody>\n",
       "</table>\n",
       "<p>5 rows × 784 columns</p>\n",
       "</div>"
      ],
      "text/plain": [
       "   pixel0  pixel1  pixel2  pixel3  pixel4  pixel5  pixel6  pixel7  pixel8  \\\n",
       "0       0       0       0       0       0       0       0       0       0   \n",
       "1       0       0       0       0       0       0       0       0       0   \n",
       "2       0       0       0       0       0       0       0       0       0   \n",
       "3       0       0       0       0       0       0       0       0       0   \n",
       "4       0       0       0       0       0       0       0       0       0   \n",
       "\n",
       "   pixel9  ...  pixel774  pixel775  pixel776  pixel777  pixel778  pixel779  \\\n",
       "0       0  ...         0         0         0         0         0         0   \n",
       "1       0  ...         0         0         0         0         0         0   \n",
       "2       0  ...         0         0         0         0         0         0   \n",
       "3       0  ...         0         0         0         0         0         0   \n",
       "4       0  ...         0         0         0         0         0         0   \n",
       "\n",
       "   pixel780  pixel781  pixel782  pixel783  \n",
       "0         0         0         0         0  \n",
       "1         0         0         0         0  \n",
       "2         0         0         0         0  \n",
       "3         0         0         0         0  \n",
       "4         0         0         0         0  \n",
       "\n",
       "[5 rows x 784 columns]"
      ]
     },
     "execution_count": 5,
     "metadata": {},
     "output_type": "execute_result"
    }
   ],
   "source": [
    "df_testing_set.head()"
   ]
  },
  {
   "cell_type": "code",
   "execution_count": 6,
   "metadata": {},
   "outputs": [
    {
     "data": {
      "text/plain": [
       "array([1, 0, 1, ..., 7, 6, 9])"
      ]
     },
     "execution_count": 6,
     "metadata": {},
     "output_type": "execute_result"
    }
   ],
   "source": [
    "#Transforming the labels to numpy arrays\n",
    "Y_train=np.array(df_training_set['label'])\n",
    "Y_train"
   ]
  },
  {
   "cell_type": "code",
   "execution_count": 7,
   "metadata": {},
   "outputs": [
    {
     "data": {
      "text/plain": [
       "(42000, 784)"
      ]
     },
     "execution_count": 7,
     "metadata": {},
     "output_type": "execute_result"
    }
   ],
   "source": [
    "#Transforming the training and testing data to numpy arrays\n",
    "X_train=np.array(df_training_set.loc[:,'pixel0':'pixel783'])/255\n",
    "X_test=np.array(df_testing_set.loc[:,'pixel0':'pixel783'])/255\n",
    "X_train.shape"
   ]
  },
  {
   "cell_type": "code",
   "execution_count": 8,
   "metadata": {},
   "outputs": [
    {
     "data": {
      "text/plain": [
       "(28000, 784)"
      ]
     },
     "execution_count": 8,
     "metadata": {},
     "output_type": "execute_result"
    }
   ],
   "source": [
    "X_test.shape"
   ]
  },
  {
   "cell_type": "code",
   "execution_count": 9,
   "metadata": {},
   "outputs": [
    {
     "name": "stdout",
     "output_type": "stream",
     "text": [
      "Label: 9\n"
     ]
    },
    {
     "data": {
      "image/png": "[encoded data removed]",
      "text/plain": [
       "<Figure size 640x480 with 1 Axes>"
      ]
     },
     "metadata": {},
     "output_type": "display_data"
    }
   ],
   "source": [
    "#Function to view the images and its labels\n",
    "def view(index):\n",
    "    global X_train,Y_train\n",
    "    image=(X_train*255)[index]\n",
    "    label=Y_train[index]\n",
    "    print(f'Label: {label}')\n",
    "    image=image.reshape(28,28)\n",
    "    plt.imshow(image,cmap='gray')\n",
    "    plt.show\n",
    "    \n",
    "view(100)"
   ]
  },
  {
   "cell_type": "markdown",
   "metadata": {},
   "source": [
    "### Neural Network Framework"
   ]
  },
  {
   "cell_type": "code",
   "execution_count": 10,
   "metadata": {},
   "outputs": [],
   "source": [
    "#Class for creating layers\n",
    "\n",
    "class Layer_Dense:\n",
    "    \n",
    "    def __init__(self,n_inputs,n_neuron):\n",
    "        #Initializing random weights of the neurons\n",
    "        self.weights=0.01*np.random.randn(n_inputs,n_neuron)\n",
    "        #Initializing random biases of the neurons\n",
    "        self.biases=np.zeros((1,n_neuron))\n",
    "    \n",
    "    #Forward Pass\n",
    "    def forward(self,inputs):\n",
    "        self.inputs=np.array(inputs)\n",
    "        #No need to transpose weights as it already is upon initialisation.\n",
    "        self.output=np.dot(inputs,self.weights)+self.biases \n",
    "\n",
    "    def backward(self,dvalues):\n",
    "        #Gradient of parameters\n",
    "        self.dweights=np.dot(self.inputs.T,dvalues)\n",
    "        self.dbiases=np.sum(dvalues,axis=0,keepdims=True)\n",
    "        #Gradient on values\n",
    "        self.dinputs=np.dot(dvalues, self.weights.T)"
   ]
  },
  {
   "cell_type": "code",
   "execution_count": 11,
   "metadata": {},
   "outputs": [],
   "source": [
    "# Class for ReLU activation\n",
    "class Activation_ReLU:\n",
    "    \n",
    "    def forward(self,inputs):\n",
    "        self.inputs=inputs\n",
    "        self.output=np.maximum(0,inputs)\n",
    "\n",
    "    def backward(self,dvalues):\n",
    "        #Since we need to modify original, we create a copy\n",
    "        self.dinputs=dvalues.copy()\n",
    "        #Zero gradients where values are less than zero\n",
    "        self.dinputs[self.inputs<=0]=0"
   ]
  },
  {
   "cell_type": "code",
   "execution_count": 12,
   "metadata": {},
   "outputs": [],
   "source": [
    "# Class for Softmax activation\n",
    "class Activation_Softmax:\n",
    "    def forward(self,inputs):\n",
    "        #Remember input values\n",
    "        self.inputs=inputs\n",
    "        #Subtracting max of each row from the values of each row before exponentiating so that the output doesn't explode.\n",
    "        exp_values=np.exp(inputs-np.max(inputs,axis=1,keepdims=True)) \n",
    "        probabilites=exp_values/np.sum(exp_values,axis=1,keepdims=True)\n",
    "        self.output=probabilites"
   ]
  },
  {
   "cell_type": "code",
   "execution_count": 13,
   "metadata": {},
   "outputs": [],
   "source": [
    "class Loss_CategoricalLossEntropy:\n",
    "    \n",
    "    def forward(self,Y_pred,Y_train):\n",
    "        # Number of samples in a batch\n",
    "        samples = len(Y_pred)\n",
    "        #Clip values so that we don't have to deal with zeroes\n",
    "        Y_pred_clipped=np.clip(Y_pred,1e-7,1-1e-7)\n",
    "        #Get the loss\n",
    "        confidences=Y_pred_clipped[range(samples),Y_train]\n",
    "        #Losses\n",
    "        negative_log=-np.log(confidences)\n",
    "        return negative_log\n",
    "  \n",
    "    def calculate(self,Y_pred,Y_train):\n",
    "        sample_losses=self.forward(Y_pred,Y_train)\n",
    "        loss=np.mean(sample_losses)\n",
    "        return loss"
   ]
  },
  {
   "cell_type": "code",
   "execution_count": 14,
   "metadata": {},
   "outputs": [],
   "source": [
    "# Softmax classifier combined  with Loss class\n",
    "\n",
    "class Activation_Softmax_Loss_CategoricalCrossEntropy:\n",
    "    \n",
    "    #Creates Softmax and Loss objects\n",
    "    def __init__(self):\n",
    "        self.activation=Activation_Softmax()\n",
    "        self.loss=Loss_CategoricalLossEntropy()\n",
    "    \n",
    "    #Returns loss value of the joint operation\n",
    "    def forward(self,inputs,Y_train):\n",
    "        #Performs softmax\n",
    "        self.activation.forward(inputs)\n",
    "        #Output of softmax\n",
    "        self.output=self.activation.output\n",
    "        #Calculate and return loss\n",
    "        return self.loss.calculate(self.output,Y_train)\n",
    "\n",
    "    def backward(self,dvalues,Y_train):\n",
    "        #Number of samples\n",
    "        samples=len(dvalues)\n",
    "        self.dinputs=dvalues.copy()\n",
    "        \n",
    "        #Calculating gradient\n",
    "        self.dinputs[range(samples),Y_train]-=1\n",
    "        #Normalizing gradient\n",
    "        self.dinputs=self.dinputs/samples"
   ]
  },
  {
   "cell_type": "code",
   "execution_count": 15,
   "metadata": {},
   "outputs": [],
   "source": [
    "#Class for SGD\n",
    "\n",
    "class Optimizer_SGD:\n",
    "    \n",
    "    #Initialize optimizer\n",
    "    def __init__(self,learning_rate=1):\n",
    "        self.learning_rate=learning_rate\n",
    "    \n",
    "    def update_params(self,layer):\n",
    "        layer.weights += -self.learning_rate*layer.dweights\n",
    "        layer.biases += -self.learning_rate*layer.dbiases"
   ]
  },
  {
   "cell_type": "markdown",
   "metadata": {},
   "source": [
    "### Creating the Model"
   ]
  },
  {
   "cell_type": "code",
   "execution_count": 19,
   "metadata": {},
   "outputs": [],
   "source": [
    "dense1=Layer_Dense(784,10)\n",
    "activation1=Activation_ReLU()\n",
    "\n",
    "dense2=Layer_Dense(10,10)\n",
    "loss_activation=Activation_Softmax_Loss_CategoricalCrossEntropy()"
   ]
  },
  {
   "cell_type": "code",
   "execution_count": 20,
   "metadata": {},
   "outputs": [],
   "source": [
    "#We are taking learning rate as 0.1\n",
    "optimizer=Optimizer_SGD(0.1)"
   ]
  },
  {
   "cell_type": "markdown",
   "metadata": {},
   "source": [
    "### Training"
   ]
  },
  {
   "cell_type": "code",
   "execution_count": 21,
   "metadata": {},
   "outputs": [],
   "source": [
    "#Function to train our model\n",
    "#Argument is the number of epochs model will train\n",
    "#It returns the final accuracy and loss of the model\n",
    "\n",
    "def train(epochs):\n",
    "\n",
    "    global X_train,Y_train\n",
    "\n",
    "    for epoch in range(epochs):\n",
    "\n",
    "        #Forward Pass\n",
    "        dense1.forward(X_train)\n",
    "        activation1.forward(dense1.output) \n",
    "  \n",
    "        dense2.forward(activation1.output)\n",
    "        loss=loss_activation.forward(dense2.output,Y_train)\n",
    "\n",
    "        #Figure out the accuracy\n",
    "        predictions=np.argmax(loss_activation.output,axis=1)\n",
    "        accuracy=np.mean(predictions==Y_train)\n",
    "\n",
    "        #Print loss and accuracy\n",
    "        if not epoch % 10:\n",
    "            print(f'epoch: {epoch}, '+f'loss: {loss:.3f}, '+f'accuracy: {accuracy*100:.3f}%')\n",
    "\n",
    "        #Backward Pass\n",
    "        \n",
    "        loss_activation.backward(loss_activation.output,Y_train)\n",
    "        dense2.backward(loss_activation.dinputs)\n",
    "\n",
    "        activation1.backward(dense2.dinputs)\n",
    "        dense1.backward(activation1.dinputs)\n",
    "\n",
    "        #Update parameters\n",
    "        optimizer.update_params(dense1)\n",
    "        optimizer.update_params(dense2)\n",
    "        \n",
    "    return accuracy,loss\n",
    "\n"
   ]
  },
  {
   "cell_type": "code",
   "execution_count": 23,
   "metadata": {},
   "outputs": [
    {
     "name": "stdout",
     "output_type": "stream",
     "text": [
      "epoch: 0, loss: 2.037, accuracy: 35.402%\n",
      "epoch: 10, loss: 1.865, accuracy: 37.952%\n",
      "epoch: 20, loss: 1.673, accuracy: 42.638%\n",
      "epoch: 30, loss: 1.494, accuracy: 51.262%\n",
      "epoch: 40, loss: 1.333, accuracy: 60.938%\n",
      "epoch: 50, loss: 1.189, accuracy: 67.264%\n",
      "epoch: 60, loss: 1.064, accuracy: 71.190%\n",
      "epoch: 70, loss: 0.962, accuracy: 74.193%\n",
      "epoch: 80, loss: 0.879, accuracy: 76.405%\n",
      "epoch: 90, loss: 0.812, accuracy: 78.240%\n",
      "epoch: 100, loss: 0.757, accuracy: 79.729%\n",
      "epoch: 110, loss: 0.712, accuracy: 80.893%\n",
      "epoch: 120, loss: 0.674, accuracy: 81.905%\n",
      "epoch: 130, loss: 0.641, accuracy: 82.738%\n",
      "epoch: 140, loss: 0.614, accuracy: 83.445%\n",
      "epoch: 150, loss: 0.590, accuracy: 84.052%\n",
      "epoch: 160, loss: 0.569, accuracy: 84.595%\n",
      "epoch: 170, loss: 0.551, accuracy: 85.098%\n",
      "epoch: 180, loss: 0.535, accuracy: 85.545%\n",
      "epoch: 190, loss: 0.520, accuracy: 85.879%\n",
      "epoch: 200, loss: 0.507, accuracy: 86.245%\n",
      "epoch: 210, loss: 0.496, accuracy: 86.524%\n",
      "epoch: 220, loss: 0.485, accuracy: 86.824%\n",
      "epoch: 230, loss: 0.475, accuracy: 87.012%\n",
      "epoch: 240, loss: 0.466, accuracy: 87.231%\n"
     ]
    }
   ],
   "source": [
    "#Training the model 250 times first\n",
    "acc1,loss1=train(250)"
   ]
  },
  {
   "cell_type": "code",
   "execution_count": 24,
   "metadata": {},
   "outputs": [
    {
     "name": "stdout",
     "output_type": "stream",
     "text": [
      "0.8741190476190476\n",
      "0.4590711324642541\n"
     ]
    }
   ],
   "source": [
    "#Checking the accuracy and loss\n",
    "print(acc1)\n",
    "print(loss1)"
   ]
  },
  {
   "cell_type": "code",
   "execution_count": 25,
   "metadata": {},
   "outputs": [
    {
     "name": "stdout",
     "output_type": "stream",
     "text": [
      "epoch: 0, loss: 0.458, accuracy: 87.429%\n",
      "epoch: 10, loss: 0.451, accuracy: 87.571%\n",
      "epoch: 20, loss: 0.444, accuracy: 87.721%\n",
      "epoch: 30, loss: 0.437, accuracy: 87.869%\n",
      "epoch: 40, loss: 0.431, accuracy: 87.990%\n",
      "epoch: 50, loss: 0.426, accuracy: 88.140%\n",
      "epoch: 60, loss: 0.420, accuracy: 88.229%\n",
      "epoch: 70, loss: 0.415, accuracy: 88.362%\n",
      "epoch: 80, loss: 0.411, accuracy: 88.467%\n",
      "epoch: 90, loss: 0.406, accuracy: 88.574%\n",
      "epoch: 100, loss: 0.402, accuracy: 88.690%\n",
      "epoch: 110, loss: 0.398, accuracy: 88.795%\n",
      "epoch: 120, loss: 0.394, accuracy: 88.912%\n",
      "epoch: 130, loss: 0.391, accuracy: 89.019%\n",
      "epoch: 140, loss: 0.387, accuracy: 89.098%\n",
      "epoch: 150, loss: 0.384, accuracy: 89.198%\n",
      "epoch: 160, loss: 0.381, accuracy: 89.264%\n",
      "epoch: 170, loss: 0.378, accuracy: 89.326%\n",
      "epoch: 180, loss: 0.375, accuracy: 89.410%\n",
      "epoch: 190, loss: 0.372, accuracy: 89.490%\n",
      "epoch: 200, loss: 0.369, accuracy: 89.581%\n",
      "epoch: 210, loss: 0.367, accuracy: 89.640%\n",
      "epoch: 220, loss: 0.364, accuracy: 89.695%\n",
      "epoch: 230, loss: 0.362, accuracy: 89.750%\n",
      "epoch: 240, loss: 0.359, accuracy: 89.793%\n",
      "epoch: 250, loss: 0.357, accuracy: 89.850%\n"
     ]
    }
   ],
   "source": [
    "#Training the model another 251 times\n",
    "acc2,loss2=train(251)"
   ]
  },
  {
   "cell_type": "code",
   "execution_count": 26,
   "metadata": {},
   "outputs": [
    {
     "name": "stdout",
     "output_type": "stream",
     "text": [
      "0.8985\n",
      "0.3571328207799805\n"
     ]
    }
   ],
   "source": [
    "#Checking the accuracy and loss\n",
    "print(acc2)\n",
    "print(loss2)"
   ]
  },
  {
   "cell_type": "markdown",
   "metadata": {},
   "source": [
    "### Testing"
   ]
  },
  {
   "cell_type": "code",
   "execution_count": 27,
   "metadata": {},
   "outputs": [],
   "source": [
    "#Defining a softmax activation function object separately\n",
    "activation2=Activation_Softmax()"
   ]
  },
  {
   "cell_type": "code",
   "execution_count": 28,
   "metadata": {},
   "outputs": [],
   "source": [
    "#Function to test the trained model\n",
    "#It takes in the index of our testing sample, runs it through the trained model and churns out the model's prediction along with an image\n",
    "def test(index):\n",
    "    global X_test\n",
    "    \n",
    "    #Forward Pass with the optimized weights and biases\n",
    "    dense1.forward(X_test[index])\n",
    "    activation1.forward(dense1.output) \n",
    "    dense2.forward(activation1.output)\n",
    "    activation2.forward(dense2.output)\n",
    "    \n",
    "    #Getting the prediction\n",
    "    prediction=np.argmax(activation2.output)\n",
    "    \n",
    "    #printing the prediction\n",
    "    print('Prediction: ',prediction)\n",
    "    \n",
    "    #Displaying the image\n",
    "    image=(X_test*255)[index]\n",
    "    image=image.reshape(28,28)\n",
    "    plt.imshow(image,cmap='gray')\n",
    "    plt.show"
   ]
  },
  {
   "cell_type": "markdown",
   "metadata": {},
   "source": [
    "#### A couple of tests (10)"
   ]
  },
  {
   "cell_type": "code",
   "execution_count": 29,
   "metadata": {},
   "outputs": [
    {
     "name": "stdout",
     "output_type": "stream",
     "text": [
      "Prediction:  1\n"
     ]
    },
    {
     "data": {
      "image/png": "[encoded data removed]",
      "text/plain": [
       "<Figure size 640x480 with 1 Axes>"
      ]
     },
     "metadata": {},
     "output_type": "display_data"
    }
   ],
   "source": [
    "test(69)"
   ]
  },
  {
   "cell_type": "code",
   "execution_count": 30,
   "metadata": {},
   "outputs": [
    {
     "name": "stdout",
     "output_type": "stream",
     "text": [
      "Prediction:  9\n"
     ]
    },
    {
     "data": {
      "image/png": "[encoded data removed]",
      "text/plain": [
       "<Figure size 640x480 with 1 Axes>"
      ]
     },
     "metadata": {},
     "output_type": "display_data"
    }
   ],
   "source": [
    "test(420)"
   ]
  },
  {
   "cell_type": "code",
   "execution_count": 31,
   "metadata": {},
   "outputs": [
    {
     "name": "stdout",
     "output_type": "stream",
     "text": [
      "Prediction:  7\n"
     ]
    },
    {
     "data": {
      "image/png": "[encoded data removed]",
      "text/plain": [
       "<Figure size 640x480 with 1 Axes>"
      ]
     },
     "metadata": {},
     "output_type": "display_data"
    }
   ],
   "source": [
    "test(6969)"
   ]
  },
  {
   "cell_type": "code",
   "execution_count": 32,
   "metadata": {},
   "outputs": [
    {
     "name": "stdout",
     "output_type": "stream",
     "text": [
      "Prediction:  2\n"
     ]
    },
    {
     "data": {
      "image/png": "[encoded data removed]",
      "text/plain": [
       "<Figure size 640x480 with 1 Axes>"
      ]
     },
     "metadata": {},
     "output_type": "display_data"
    }
   ],
   "source": [
    "test(4269)"
   ]
  },
  {
   "cell_type": "code",
   "execution_count": 33,
   "metadata": {},
   "outputs": [
    {
     "name": "stdout",
     "output_type": "stream",
     "text": [
      "Prediction:  2\n"
     ]
    },
    {
     "data": {
      "image/png": "[encoded data removed]",
      "text/plain": [
       "<Figure size 640x480 with 1 Axes>"
      ]
     },
     "metadata": {},
     "output_type": "display_data"
    }
   ],
   "source": [
    "test(90)"
   ]
  },
  {
   "cell_type": "code",
   "execution_count": 34,
   "metadata": {},
   "outputs": [
    {
     "name": "stdout",
     "output_type": "stream",
     "text": [
      "Prediction:  6\n"
     ]
    },
    {
     "data": {
      "image/png": "[encoded data removed]",
      "text/plain": [
       "<Figure size 640x480 with 1 Axes>"
      ]
     },
     "metadata": {},
     "output_type": "display_data"
    }
   ],
   "source": [
    "test(198)"
   ]
  },
  {
   "cell_type": "code",
   "execution_count": 35,
   "metadata": {},
   "outputs": [
    {
     "name": "stdout",
     "output_type": "stream",
     "text": [
      "Prediction:  7\n"
     ]
    },
    {
     "data": {
      "image/png": "[encoded data removed]",
      "text/plain": [
       "<Figure size 640x480 with 1 Axes>"
      ]
     },
     "metadata": {},
     "output_type": "display_data"
    }
   ],
   "source": [
    "test(45)"
   ]
  },
  {
   "cell_type": "code",
   "execution_count": 36,
   "metadata": {},
   "outputs": [
    {
     "name": "stdout",
     "output_type": "stream",
     "text": [
      "Prediction:  5\n"
     ]
    },
    {
     "data": {
      "image/png": "[encoded data removed]",
      "text/plain": [
       "<Figure size 640x480 with 1 Axes>"
      ]
     },
     "metadata": {},
     "output_type": "display_data"
    }
   ],
   "source": [
    "test(23)"
   ]
  },
  {
   "cell_type": "code",
   "execution_count": 37,
   "metadata": {},
   "outputs": [
    {
     "name": "stdout",
     "output_type": "stream",
     "text": [
      "Prediction:  9\n"
     ]
    },
    {
     "data": {
      "image/png": "[encoded data removed]",
      "text/plain": [
       "<Figure size 640x480 with 1 Axes>"
      ]
     },
     "metadata": {},
     "output_type": "display_data"
    }
   ],
   "source": [
    "test(67)"
   ]
  },
  {
   "cell_type": "code",
   "execution_count": 38,
   "metadata": {},
   "outputs": [
    {
     "name": "stdout",
     "output_type": "stream",
     "text": [
      "Prediction:  2\n"
     ]
    },
    {
     "data": {
      "image/png": "[encoded data removed]",
      "text/plain": [
       "<Figure size 640x480 with 1 Axes>"
      ]
     },
     "metadata": {},
     "output_type": "display_data"
    }
   ],
   "source": [
    "test(0)"
   ]
  }
 ],
 "metadata": {
  "kernelspec": {
   "display_name": "Python 3.10.8 64-bit",
   "language": "python",
   "name": "python3"
  },
  "language_info": {
   "codemirror_mode": {
    "name": "ipython",
    "version": 3
   },
   "file_extension": ".py",
   "mimetype": "text/x-python",
   "name": "python",
   "nbconvert_exporter": "python",
   "pygments_lexer": "ipython3",
   "version": "3.10.8"
  },
  "orig_nbformat": 4,
  "vscode": {
   "interpreter": {
    "hash": "b0fa6594d8f4cbf19f97940f81e996739fb7646882a419484c72d19e05852a7e"
   }
  }
 },
 "nbformat": 4,
 "nbformat_minor": 2
}
